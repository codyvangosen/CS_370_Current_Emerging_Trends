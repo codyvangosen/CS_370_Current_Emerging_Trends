{
 "cells": [
  {
   "cell_type": "markdown",
   "metadata": {},
   "source": [
    "# Treasure Hunt Game Notebook\n",
    "\n",
    "## Read and Review Your Starter Code\n",
    "The theme of this project is a popular treasure hunt game in which the player needs to find the treasure before the pirate does. While you will not be developing the entire game, you will write the part of the game that represents the intelligent agent, which is a pirate in this case. The pirate will try to find the optimal path to the treasure using deep Q-learning. \n",
    "\n",
    "You have been provided with two Python classes and this notebook to help you with this assignment. The first class, TreasureMaze.py, represents the environment, which includes a maze object defined as a matrix. The second class, GameExperience.py, stores the episodes – that is, all the states that come in between the initial state and the terminal state. This is later used by the agent for learning by experience, called \"exploration\". This notebook shows how to play a game. Your task is to complete the deep Q-learning implementation for which a skeleton implementation has been provided. The code blocks you will need to complete has #TODO as a header.\n",
    "\n",
    "First, read and review the next few code and instruction blocks to understand the code that you have been given."
   ]
  },
  {
   "cell_type": "code",
   "execution_count": 13,
   "metadata": {},
   "outputs": [],
   "source": [
    "from __future__ import print_function\n",
    "import os, sys, time, datetime, json, random\n",
    "import numpy as np\n",
    "from keras.models import Sequential\n",
    "from keras.layers.core import Dense, Activation\n",
    "from keras.optimizers import SGD , Adam, RMSprop\n",
    "from keras.layers.advanced_activations import PReLU\n",
    "import matplotlib.pyplot as plt\n",
    "from TreasureMaze import TreasureMaze\n",
    "from GameExperience import GameExperience\n",
    "%matplotlib inline"
   ]
  },
  {
   "cell_type": "markdown",
   "metadata": {},
   "source": [
    "The following code block contains an 8x8 matrix that will be used as a maze object:"
   ]
  },
  {
   "cell_type": "code",
   "execution_count": 14,
   "metadata": {},
   "outputs": [],
   "source": [
    "maze = np.array([\n",
    "    [ 1.,  0.,  1.,  1.,  1.,  1.,  1.,  1.],\n",
    "    [ 1.,  0.,  1.,  1.,  1.,  0.,  1.,  1.],\n",
    "    [ 1.,  1.,  1.,  1.,  0.,  1.,  0.,  1.],\n",
    "    [ 1.,  1.,  1.,  0.,  1.,  1.,  1.,  1.],\n",
    "    [ 1.,  1.,  0.,  1.,  1.,  1.,  1.,  1.],\n",
    "    [ 1.,  1.,  1.,  0.,  1.,  0.,  0.,  0.],\n",
    "    [ 1.,  1.,  1.,  0.,  1.,  1.,  1.,  1.],\n",
    "    [ 1.,  1.,  1.,  1.,  0.,  1.,  1.,  1.]\n",
    "])"
   ]
  },
  {
   "cell_type": "markdown",
   "metadata": {},
   "source": [
    "This helper function allows a visual representation of the maze object:"
   ]
  },
  {
   "cell_type": "code",
   "execution_count": 15,
   "metadata": {},
   "outputs": [],
   "source": [
    "def show(qmaze):\n",
    "    plt.grid('on')\n",
    "    nrows, ncols = qmaze.maze.shape\n",
    "    ax = plt.gca()\n",
    "    ax.set_xticks(np.arange(0.5, nrows, 1))\n",
    "    ax.set_yticks(np.arange(0.5, ncols, 1))\n",
    "    ax.set_xticklabels([])\n",
    "    ax.set_yticklabels([])\n",
    "    canvas = np.copy(qmaze.maze)\n",
    "    for row,col in qmaze.visited:\n",
    "        canvas[row,col] = 0.6\n",
    "    pirate_row, pirate_col, _ = qmaze.state\n",
    "    canvas[pirate_row, pirate_col] = 0.3   # pirate cell\n",
    "    canvas[nrows-1, ncols-1] = 0.9 # treasure cell\n",
    "    img = plt.imshow(canvas, interpolation='none', cmap='gray')\n",
    "    return img"
   ]
  },
  {
   "cell_type": "markdown",
   "metadata": {},
   "source": [
    "The pirate agent can move in four directions: left, right, up, and down. \n",
    "\n",
    "While the agent primarily learns by experience through exploitation, often, the agent can choose to explore the environment to find previously undiscovered paths. This is called \"exploration\" and is defined by epsilon. This value is typically a lower value such as 0.1, which means for every ten attempts, the agent will attempt to learn by experience nine times and will randomly explore a new path one time. You are encouraged to try various values for the exploration factor and see how the algorithm performs."
   ]
  },
  {
   "cell_type": "code",
   "execution_count": 16,
   "metadata": {},
   "outputs": [],
   "source": [
    "LEFT = 0\n",
    "UP = 1\n",
    "RIGHT = 2\n",
    "DOWN = 3\n",
    "\n",
    "\n",
    "# Exploration factor\n",
    "epsilon = 0.1\n",
    "\n",
    "# Actions dictionary\n",
    "actions_dict = {\n",
    "    LEFT: 'left',\n",
    "    UP: 'up',\n",
    "    RIGHT: 'right',\n",
    "    DOWN: 'down',\n",
    "}\n",
    "\n",
    "num_actions = len(actions_dict)\n"
   ]
  },
  {
   "cell_type": "markdown",
   "metadata": {},
   "source": [
    "The sample code block and output below show creating a maze object and performing one action (DOWN), which returns the reward. The resulting updated environment is visualized."
   ]
  },
  {
   "cell_type": "code",
   "execution_count": 17,
   "metadata": {},
   "outputs": [
    {
     "name": "stdout",
     "output_type": "stream",
     "text": [
      "reward= -0.04\n"
     ]
    },
    {
     "data": {
      "text/plain": [
       "<matplotlib.image.AxesImage at 0x14a8e5ddac8>"
      ]
     },
     "execution_count": 17,
     "metadata": {},
     "output_type": "execute_result"
    },
    {
     "data": {
      "image/png": "[encoded data removed]",
      "text/plain": [
       "<Figure size 432x288 with 1 Axes>"
      ]
     },
     "metadata": {
      "needs_background": "light"
     },
     "output_type": "display_data"
    }
   ],
   "source": [
    "qmaze = TreasureMaze(maze)\n",
    "canvas, reward, game_over = qmaze.act(DOWN)\n",
    "print(\"reward=\", reward)\n",
    "show(qmaze)"
   ]
  },
  {
   "cell_type": "markdown",
   "metadata": {},
   "source": [
    "This function simulates a full game based on the provided trained model. The other parameters include the TreasureMaze object and the starting position of the pirate."
   ]
  },
  {
   "cell_type": "code",
   "execution_count": 18,
   "metadata": {},
   "outputs": [],
   "source": [
    "def play_game(model, qmaze, pirate_cell):\n",
    "    qmaze.reset(pirate_cell)\n",
    "    envstate = qmaze.observe()\n",
    "    while True:\n",
    "        prev_envstate = envstate\n",
    "        # get next action\n",
    "        q = model.predict(prev_envstate)\n",
    "        action = np.argmax(q[0])\n",
    "\n",
    "        # apply action, get rewards and new state\n",
    "        envstate, reward, game_status = qmaze.act(action)\n",
    "        if game_status == 'win':\n",
    "            return True\n",
    "        elif game_status == 'lose':\n",
    "            return False"
   ]
  },
  {
   "cell_type": "markdown",
   "metadata": {},
   "source": [
    "This function helps you to determine whether the pirate can win any game at all. If your maze is not well designed, the pirate may not win any game at all. In this case, your training would not yield any result. The provided maze in this notebook ensures that there is a path to win and you can run this method to check."
   ]
  },
  {
   "cell_type": "code",
   "execution_count": 19,
   "metadata": {},
   "outputs": [],
   "source": [
    "def completion_check(model, qmaze):\n",
    "    for cell in qmaze.free_cells:\n",
    "        if not qmaze.valid_actions(cell):\n",
    "            return False\n",
    "        if not play_game(model, qmaze, cell):\n",
    "            return False\n",
    "    return True"
   ]
  },
  {
   "cell_type": "markdown",
   "metadata": {},
   "source": [
    "The code you have been given in this block will build the neural network model. Review the code and note the number of layers, as well as the activation, optimizer, and loss functions that are used to train the model."
   ]
  },
  {
   "cell_type": "code",
   "execution_count": 20,
   "metadata": {},
   "outputs": [],
   "source": [
    "def build_model(maze):\n",
    "    model = Sequential()\n",
    "    model.add(Dense(maze.size, input_shape=(maze.size,)))\n",
    "    model.add(PReLU())\n",
    "    model.add(Dense(maze.size))\n",
    "    model.add(PReLU())\n",
    "    model.add(Dense(num_actions))\n",
    "    model.compile(optimizer='adam', loss='mse')\n",
    "    return model"
   ]
  },
  {
   "cell_type": "markdown",
   "metadata": {},
   "source": [
    "# #TODO: Complete the Q-Training Algorithm Code Block\n",
    "\n",
    "This is your deep Q-learning implementation. The goal of your deep Q-learning implementation is to find the best possible navigation sequence that results in reaching the treasure cell while maximizing the reward. In your implementation, you need to determine the optimal number of epochs to achieve a 100% win rate.\n",
    "\n",
    "You will need to complete the section starting with #pseudocode. The pseudocode has been included for you."
   ]
  },
  {
   "cell_type": "code",
   "execution_count": 21,
   "metadata": {},
   "outputs": [],
   "source": [
    "def qtrain(model, maze, **opt):\n",
    "\n",
    "    # exploration factor\n",
    "    global epsilon \n",
    "\n",
    "    # number of epochs\n",
    "    n_epoch = opt.get('n_epoch', 15000)\n",
    "\n",
    "    # maximum memory to store episodes\n",
    "    max_memory = opt.get('max_memory', 1000)\n",
    "\n",
    "    # maximum data size for training\n",
    "    data_size = opt.get('data_size', 50)\n",
    "\n",
    "    # start time\n",
    "    start_time = datetime.datetime.now()\n",
    "\n",
    "    # Construct environment/game from numpy array: maze (see above)\n",
    "    qmaze = TreasureMaze(maze)\n",
    "\n",
    "    # Initialize experience replay object\n",
    "    experience = GameExperience(model, max_memory=max_memory)\n",
    "    \n",
    "    win_history = []   # history of win/lose game\n",
    "    hsize = qmaze.maze.size//2   # history window size\n",
    "    win_rate = 0.0\n",
    "    \n",
    "    for epoch in range(n_epoch):\n",
    "        # Agent_cell = randomly select a free cell\n",
    "        free_cells = qmaze.free_cells\n",
    "        agent_cell = random.choice(free_cells)\n",
    "\n",
    "        # Reset the maze with the agent in the selected position\n",
    "        qmaze.reset(agent_cell)\n",
    "\n",
    "        # envstate = Environment.current_state\n",
    "        envstate = qmaze.observe()  # Initial state\n",
    "\n",
    "        n_episodes = 0\n",
    "        loss = 0.0\n",
    "\n",
    "        # While state is not game over:\n",
    "        while qmaze.game_status() == 'not_over':\n",
    "            # previous_envstate = envstate\n",
    "            prev_envstate = envstate\n",
    "\n",
    "            # Action = randomly choose action (left, right, up, down)\n",
    "            if np.random.rand() < epsilon:  # Exploration\n",
    "                action = random.choice(range(4))  # Random action\n",
    "            else:  # Exploitation\n",
    "                q_values = model.predict(prev_envstate)[0]\n",
    "                action = np.argmax(q_values)  # Choose best action\n",
    "\n",
    "            # envstate, reward, game_status = qmaze.act(action)\n",
    "            envstate, reward, game_status = qmaze.act(action)\n",
    "\n",
    "            # episode = [previous_envstate, action, reward, envstate, game_status]\n",
    "            episode = [prev_envstate, action, reward, envstate, game_status == 'lose']\n",
    "\n",
    "            # Store episode in Experience replay object\n",
    "            experience.remember(episode)\n",
    "\n",
    "            n_episodes += 1\n",
    "\n",
    "            # Train neural network model and evaluate loss\n",
    "            inputs, targets = experience.get_data(data_size=data_size)\n",
    "            history = model.fit(inputs, targets, epochs=1, batch_size=16, verbose=0)\n",
    "            loss = history.history[\"loss\"][0]\n",
    "\n",
    "        # Append win/lose history\n",
    "        win_history.append(1 if game_status == 'win' else 0)\n",
    "\n",
    "        # Maintain the size of win_history\n",
    "        if len(win_history) > hsize:\n",
    "            win_history = win_history[-hsize:]\n",
    "        win_rate = sum(win_history) / len(win_history)\n",
    "\n",
    "\n",
    "    #Print the epoch, loss, episodes, win count, and win rate for each epoch\n",
    "        dt = datetime.datetime.now() - start_time\n",
    "        t = format_time(dt.total_seconds())\n",
    "        template = \"Epoch: {:03d}/{:d} | Loss: {:.4f} | Episodes: {:d} | Win count: {:d} | Win rate: {:.3f} | time: {}\"\n",
    "        print(template.format(epoch, n_epoch-1, loss, n_episodes, sum(win_history), win_rate, t))\n",
    "        # We simply check if training has exhausted all free cells and if in all\n",
    "        # cases the agent won.\n",
    "        if win_rate > 0.9 : epsilon = 0.05\n",
    "        if sum(win_history[-hsize:]) == hsize and completion_check(model, qmaze):\n",
    "            print(\"Reached 100%% win rate at epoch: %d\" % (epoch,))\n",
    "            break\n",
    "    \n",
    "    \n",
    "    # Determine the total time for training\n",
    "    dt = datetime.datetime.now() - start_time\n",
    "    seconds = dt.total_seconds()\n",
    "    t = format_time(seconds)\n",
    "\n",
    "    print(\"n_epoch: %d, max_mem: %d, data: %d, time: %s\" % (epoch, max_memory, data_size, t))\n",
    "    return seconds\n",
    "\n",
    "# This is a small utility for printing readable time strings:\n",
    "def format_time(seconds):\n",
    "    if seconds < 400:\n",
    "        s = float(seconds)\n",
    "        return \"%.1f seconds\" % (s,)\n",
    "    elif seconds < 4000:\n",
    "        m = seconds / 60.0\n",
    "        return \"%.2f minutes\" % (m,)\n",
    "    else:\n",
    "        h = seconds / 3600.0\n",
    "        return \"%.2f hours\" % (h,)"
   ]
  },
  {
   "cell_type": "markdown",
   "metadata": {},
   "source": [
    "## Test Your Model\n",
    "\n",
    "Now we will start testing the deep Q-learning implementation. To begin, select **Cell**, then **Run All** from the menu bar. This will run your notebook. As it runs, you should see output begin to appear beneath the next few cells. The code below creates an instance of TreasureMaze."
   ]
  },
  {
   "cell_type": "code",
   "execution_count": 22,
   "metadata": {
    "scrolled": true
   },
   "outputs": [
    {
     "data": {
      "text/plain": [
       "<matplotlib.image.AxesImage at 0x14a8e776908>"
      ]
     },
     "execution_count": 22,
     "metadata": {},
     "output_type": "execute_result"
    },
    {
     "data": {
      "image/png": "[encoded data removed]",
      "text/plain": [
       "<Figure size 432x288 with 1 Axes>"
      ]
     },
     "metadata": {
      "needs_background": "light"
     },
     "output_type": "display_data"
    }
   ],
   "source": [
    "qmaze = TreasureMaze(maze)\n",
    "show(qmaze)"
   ]
  },
  {
   "cell_type": "markdown",
   "metadata": {},
   "source": [
    "In the next code block, you will build your model and train it using deep Q-learning. Note: This step takes several minutes to fully run."
   ]
  },
  {
   "cell_type": "code",
   "execution_count": 23,
   "metadata": {},
   "outputs": [
    {
     "name": "stdout",
     "output_type": "stream",
     "text": [
      "Epoch: 000/14999 | Loss: 0.0009 | Episodes: 143 | Win count: 0 | Win rate: 0.000 | time: 12.2 seconds\n",
      "Epoch: 001/14999 | Loss: 0.0021 | Episodes: 139 | Win count: 0 | Win rate: 0.000 | time: 26.7 seconds\n",
      "Epoch: 002/14999 | Loss: 0.0024 | Episodes: 29 | Win count: 1 | Win rate: 0.333 | time: 29.2 seconds\n",
      "Epoch: 003/14999 | Loss: 0.0022 | Episodes: 150 | Win count: 1 | Win rate: 0.250 | time: 41.4 seconds\n",
      "Epoch: 004/14999 | Loss: 0.0023 | Episodes: 147 | Win count: 1 | Win rate: 0.200 | time: 54.9 seconds\n",
      "Epoch: 005/14999 | Loss: 0.0027 | Episodes: 143 | Win count: 1 | Win rate: 0.167 | time: 65.7 seconds\n",
      "Epoch: 006/14999 | Loss: 0.0701 | Episodes: 20 | Win count: 2 | Win rate: 0.286 | time: 67.2 seconds\n",
      "Epoch: 007/14999 | Loss: 0.0092 | Episodes: 7 | Win count: 3 | Win rate: 0.375 | time: 67.8 seconds\n",
      "Epoch: 008/14999 | Loss: 0.0107 | Episodes: 6 | Win count: 4 | Win rate: 0.444 | time: 68.4 seconds\n",
      "Epoch: 009/14999 | Loss: 0.0019 | Episodes: 144 | Win count: 4 | Win rate: 0.400 | time: 80.9 seconds\n",
      "Epoch: 010/14999 | Loss: 0.0152 | Episodes: 145 | Win count: 4 | Win rate: 0.364 | time: 93.2 seconds\n",
      "Epoch: 011/14999 | Loss: 0.0579 | Episodes: 150 | Win count: 4 | Win rate: 0.333 | time: 105.4 seconds\n",
      "Epoch: 012/14999 | Loss: 0.0014 | Episodes: 141 | Win count: 4 | Win rate: 0.308 | time: 116.9 seconds\n",
      "Epoch: 013/14999 | Loss: 0.0020 | Episodes: 135 | Win count: 4 | Win rate: 0.286 | time: 126.6 seconds\n",
      "Epoch: 014/14999 | Loss: 0.0016 | Episodes: 143 | Win count: 4 | Win rate: 0.267 | time: 138.4 seconds\n",
      "Epoch: 015/14999 | Loss: 0.0012 | Episodes: 136 | Win count: 4 | Win rate: 0.250 | time: 149.0 seconds\n",
      "Epoch: 016/14999 | Loss: 0.0012 | Episodes: 136 | Win count: 4 | Win rate: 0.235 | time: 159.5 seconds\n",
      "Epoch: 017/14999 | Loss: 0.0011 | Episodes: 2 | Win count: 5 | Win rate: 0.278 | time: 159.7 seconds\n",
      "Epoch: 018/14999 | Loss: 0.0013 | Episodes: 140 | Win count: 5 | Win rate: 0.263 | time: 172.6 seconds\n",
      "Epoch: 019/14999 | Loss: 0.0015 | Episodes: 136 | Win count: 5 | Win rate: 0.250 | time: 183.5 seconds\n",
      "Epoch: 020/14999 | Loss: 0.0595 | Episodes: 145 | Win count: 5 | Win rate: 0.238 | time: 194.1 seconds\n",
      "Epoch: 021/14999 | Loss: 0.0016 | Episodes: 139 | Win count: 5 | Win rate: 0.227 | time: 206.2 seconds\n",
      "Epoch: 022/14999 | Loss: 0.0036 | Episodes: 139 | Win count: 5 | Win rate: 0.217 | time: 217.0 seconds\n",
      "Epoch: 023/14999 | Loss: 0.1505 | Episodes: 135 | Win count: 5 | Win rate: 0.208 | time: 230.6 seconds\n",
      "Epoch: 024/14999 | Loss: 0.0025 | Episodes: 1 | Win count: 6 | Win rate: 0.240 | time: 230.7 seconds\n",
      "Epoch: 025/14999 | Loss: 0.0021 | Episodes: 6 | Win count: 7 | Win rate: 0.269 | time: 231.3 seconds\n",
      "Epoch: 026/14999 | Loss: 0.0125 | Episodes: 147 | Win count: 7 | Win rate: 0.259 | time: 243.7 seconds\n",
      "Epoch: 027/14999 | Loss: 0.0104 | Episodes: 143 | Win count: 7 | Win rate: 0.250 | time: 256.0 seconds\n",
      "Epoch: 028/14999 | Loss: 0.0020 | Episodes: 144 | Win count: 7 | Win rate: 0.241 | time: 270.2 seconds\n",
      "Epoch: 029/14999 | Loss: 0.0562 | Episodes: 84 | Win count: 8 | Win rate: 0.267 | time: 277.5 seconds\n",
      "Epoch: 030/14999 | Loss: 0.0013 | Episodes: 4 | Win count: 9 | Win rate: 0.290 | time: 277.9 seconds\n",
      "Epoch: 031/14999 | Loss: 0.0010 | Episodes: 140 | Win count: 9 | Win rate: 0.281 | time: 290.0 seconds\n",
      "Epoch: 032/14999 | Loss: 0.0042 | Episodes: 136 | Win count: 9 | Win rate: 0.281 | time: 303.3 seconds\n",
      "Epoch: 033/14999 | Loss: 0.0031 | Episodes: 57 | Win count: 10 | Win rate: 0.312 | time: 307.8 seconds\n",
      "Epoch: 034/14999 | Loss: 0.0635 | Episodes: 149 | Win count: 9 | Win rate: 0.281 | time: 319.6 seconds\n",
      "Epoch: 035/14999 | Loss: 0.0025 | Episodes: 1 | Win count: 10 | Win rate: 0.312 | time: 319.7 seconds\n",
      "Epoch: 036/14999 | Loss: 0.0031 | Episodes: 158 | Win count: 10 | Win rate: 0.312 | time: 334.5 seconds\n",
      "Epoch: 037/14999 | Loss: 0.0020 | Episodes: 151 | Win count: 10 | Win rate: 0.312 | time: 347.2 seconds\n",
      "Epoch: 038/14999 | Loss: 0.0028 | Episodes: 5 | Win count: 10 | Win rate: 0.312 | time: 347.5 seconds\n",
      "Epoch: 039/14999 | Loss: 0.0025 | Episodes: 152 | Win count: 9 | Win rate: 0.281 | time: 362.1 seconds\n",
      "Epoch: 040/14999 | Loss: 0.0021 | Episodes: 50 | Win count: 9 | Win rate: 0.281 | time: 367.9 seconds\n",
      "Epoch: 041/14999 | Loss: 0.0090 | Episodes: 23 | Win count: 10 | Win rate: 0.312 | time: 369.7 seconds\n",
      "Epoch: 042/14999 | Loss: 0.0042 | Episodes: 142 | Win count: 10 | Win rate: 0.312 | time: 381.4 seconds\n",
      "Epoch: 043/14999 | Loss: 0.0066 | Episodes: 2 | Win count: 11 | Win rate: 0.344 | time: 381.6 seconds\n",
      "Epoch: 044/14999 | Loss: 0.0045 | Episodes: 142 | Win count: 11 | Win rate: 0.344 | time: 395.4 seconds\n",
      "Epoch: 045/14999 | Loss: 0.0019 | Episodes: 140 | Win count: 11 | Win rate: 0.344 | time: 6.78 minutes\n",
      "Epoch: 046/14999 | Loss: 0.0027 | Episodes: 137 | Win count: 11 | Win rate: 0.344 | time: 6.96 minutes\n",
      "Epoch: 047/14999 | Loss: 0.0023 | Episodes: 142 | Win count: 11 | Win rate: 0.344 | time: 7.15 minutes\n",
      "Epoch: 048/14999 | Loss: 0.0036 | Episodes: 135 | Win count: 11 | Win rate: 0.344 | time: 7.29 minutes\n",
      "Epoch: 049/14999 | Loss: 0.0016 | Episodes: 138 | Win count: 10 | Win rate: 0.312 | time: 7.46 minutes\n",
      "Epoch: 050/14999 | Loss: 0.0022 | Episodes: 139 | Win count: 10 | Win rate: 0.312 | time: 7.63 minutes\n",
      "Epoch: 051/14999 | Loss: 0.0010 | Episodes: 140 | Win count: 10 | Win rate: 0.312 | time: 7.80 minutes\n",
      "Epoch: 052/14999 | Loss: 0.0017 | Episodes: 144 | Win count: 10 | Win rate: 0.312 | time: 8.00 minutes\n",
      "Epoch: 053/14999 | Loss: 0.0020 | Episodes: 146 | Win count: 10 | Win rate: 0.312 | time: 8.23 minutes\n",
      "Epoch: 054/14999 | Loss: 0.0016 | Episodes: 4 | Win count: 11 | Win rate: 0.344 | time: 8.24 minutes\n",
      "Epoch: 055/14999 | Loss: 0.0565 | Episodes: 65 | Win count: 12 | Win rate: 0.375 | time: 8.32 minutes\n",
      "Epoch: 056/14999 | Loss: 0.0853 | Episodes: 142 | Win count: 11 | Win rate: 0.344 | time: 8.52 minutes\n",
      "Epoch: 057/14999 | Loss: 0.0020 | Episodes: 147 | Win count: 10 | Win rate: 0.312 | time: 8.73 minutes\n",
      "Epoch: 058/14999 | Loss: 0.0022 | Episodes: 1 | Win count: 11 | Win rate: 0.344 | time: 8.73 minutes\n",
      "Epoch: 059/14999 | Loss: 0.0049 | Episodes: 33 | Win count: 12 | Win rate: 0.375 | time: 8.77 minutes\n",
      "Epoch: 060/14999 | Loss: 0.0023 | Episodes: 136 | Win count: 12 | Win rate: 0.375 | time: 8.96 minutes\n",
      "Epoch: 061/14999 | Loss: 0.0024 | Episodes: 2 | Win count: 12 | Win rate: 0.375 | time: 8.97 minutes\n",
      "Epoch: 062/14999 | Loss: 0.0031 | Episodes: 142 | Win count: 11 | Win rate: 0.344 | time: 9.21 minutes\n",
      "Epoch: 063/14999 | Loss: 0.0046 | Episodes: 1 | Win count: 12 | Win rate: 0.375 | time: 9.21 minutes\n",
      "Epoch: 064/14999 | Loss: 0.0526 | Episodes: 141 | Win count: 12 | Win rate: 0.375 | time: 9.39 minutes\n",
      "Epoch: 065/14999 | Loss: 0.0016 | Episodes: 136 | Win count: 11 | Win rate: 0.344 | time: 9.58 minutes\n",
      "Epoch: 066/14999 | Loss: 0.0028 | Episodes: 146 | Win count: 11 | Win rate: 0.344 | time: 9.80 minutes\n",
      "Epoch: 067/14999 | Loss: 0.0999 | Episodes: 145 | Win count: 10 | Win rate: 0.312 | time: 9.97 minutes\n",
      "Epoch: 068/14999 | Loss: 0.0020 | Episodes: 154 | Win count: 10 | Win rate: 0.312 | time: 10.18 minutes\n",
      "Epoch: 069/14999 | Loss: 0.0024 | Episodes: 8 | Win count: 11 | Win rate: 0.344 | time: 10.19 minutes\n",
      "Epoch: 070/14999 | Loss: 0.0794 | Episodes: 140 | Win count: 10 | Win rate: 0.312 | time: 10.36 minutes\n",
      "Epoch: 071/14999 | Loss: 0.0023 | Episodes: 144 | Win count: 10 | Win rate: 0.312 | time: 10.54 minutes\n",
      "Epoch: 072/14999 | Loss: 0.0082 | Episodes: 132 | Win count: 10 | Win rate: 0.312 | time: 10.72 minutes\n",
      "Epoch: 073/14999 | Loss: 0.0037 | Episodes: 18 | Win count: 10 | Win rate: 0.312 | time: 10.74 minutes\n",
      "Epoch: 074/14999 | Loss: 0.0021 | Episodes: 10 | Win count: 11 | Win rate: 0.344 | time: 10.75 minutes\n",
      "Epoch: 075/14999 | Loss: 0.0032 | Episodes: 143 | Win count: 10 | Win rate: 0.312 | time: 10.91 minutes\n",
      "Epoch: 076/14999 | Loss: 0.0019 | Episodes: 153 | Win count: 10 | Win rate: 0.312 | time: 11.11 minutes\n",
      "Epoch: 077/14999 | Loss: 0.0028 | Episodes: 143 | Win count: 10 | Win rate: 0.312 | time: 11.32 minutes\n",
      "Epoch: 078/14999 | Loss: 0.0053 | Episodes: 123 | Win count: 11 | Win rate: 0.344 | time: 11.46 minutes\n",
      "Epoch: 079/14999 | Loss: 0.0009 | Episodes: 137 | Win count: 11 | Win rate: 0.344 | time: 11.63 minutes\n"
     ]
    },
    {
     "name": "stdout",
     "output_type": "stream",
     "text": [
      "Epoch: 080/14999 | Loss: 0.0054 | Episodes: 5 | Win count: 12 | Win rate: 0.375 | time: 11.64 minutes\n",
      "Epoch: 081/14999 | Loss: 0.0024 | Episodes: 106 | Win count: 13 | Win rate: 0.406 | time: 11.78 minutes\n",
      "Epoch: 082/14999 | Loss: 0.0097 | Episodes: 113 | Win count: 14 | Win rate: 0.438 | time: 11.91 minutes\n",
      "Epoch: 083/14999 | Loss: 0.0068 | Episodes: 30 | Win count: 15 | Win rate: 0.469 | time: 11.95 minutes\n",
      "Epoch: 084/14999 | Loss: 0.0605 | Episodes: 33 | Win count: 16 | Win rate: 0.500 | time: 11.99 minutes\n",
      "Epoch: 085/14999 | Loss: 0.0042 | Episodes: 143 | Win count: 16 | Win rate: 0.500 | time: 12.21 minutes\n",
      "Epoch: 086/14999 | Loss: 0.0025 | Episodes: 116 | Win count: 16 | Win rate: 0.500 | time: 12.35 minutes\n",
      "Epoch: 087/14999 | Loss: 0.0042 | Episodes: 60 | Win count: 16 | Win rate: 0.500 | time: 12.41 minutes\n",
      "Epoch: 088/14999 | Loss: 0.0062 | Episodes: 22 | Win count: 17 | Win rate: 0.531 | time: 12.45 minutes\n",
      "Epoch: 089/14999 | Loss: 0.0161 | Episodes: 20 | Win count: 18 | Win rate: 0.562 | time: 12.48 minutes\n",
      "Epoch: 090/14999 | Loss: 0.0026 | Episodes: 142 | Win count: 17 | Win rate: 0.531 | time: 12.71 minutes\n",
      "Epoch: 091/14999 | Loss: 0.0047 | Episodes: 39 | Win count: 17 | Win rate: 0.531 | time: 12.77 minutes\n",
      "Epoch: 092/14999 | Loss: 0.0028 | Episodes: 139 | Win count: 17 | Win rate: 0.531 | time: 12.95 minutes\n",
      "Epoch: 093/14999 | Loss: 0.0059 | Episodes: 142 | Win count: 16 | Win rate: 0.500 | time: 13.15 minutes\n",
      "Epoch: 094/14999 | Loss: 0.0055 | Episodes: 145 | Win count: 16 | Win rate: 0.500 | time: 13.35 minutes\n",
      "Epoch: 095/14999 | Loss: 0.0046 | Episodes: 26 | Win count: 16 | Win rate: 0.500 | time: 13.38 minutes\n",
      "Epoch: 096/14999 | Loss: 0.0046 | Episodes: 9 | Win count: 17 | Win rate: 0.531 | time: 13.39 minutes\n",
      "Epoch: 097/14999 | Loss: 0.0011 | Episodes: 142 | Win count: 17 | Win rate: 0.531 | time: 13.57 minutes\n",
      "Epoch: 098/14999 | Loss: 0.0689 | Episodes: 4 | Win count: 18 | Win rate: 0.562 | time: 13.58 minutes\n",
      "Epoch: 099/14999 | Loss: 0.0046 | Episodes: 42 | Win count: 19 | Win rate: 0.594 | time: 13.65 minutes\n",
      "Epoch: 100/14999 | Loss: 0.0047 | Episodes: 9 | Win count: 20 | Win rate: 0.625 | time: 13.66 minutes\n",
      "Epoch: 101/14999 | Loss: 0.0016 | Episodes: 1 | Win count: 20 | Win rate: 0.625 | time: 13.66 minutes\n",
      "Epoch: 102/14999 | Loss: 0.0060 | Episodes: 67 | Win count: 21 | Win rate: 0.656 | time: 13.76 minutes\n",
      "Epoch: 103/14999 | Loss: 0.0094 | Episodes: 138 | Win count: 21 | Win rate: 0.656 | time: 13.94 minutes\n",
      "Epoch: 104/14999 | Loss: 0.0054 | Episodes: 24 | Win count: 21 | Win rate: 0.656 | time: 13.96 minutes\n",
      "Epoch: 105/14999 | Loss: 0.0133 | Episodes: 8 | Win count: 21 | Win rate: 0.656 | time: 13.97 minutes\n",
      "Epoch: 106/14999 | Loss: 0.0040 | Episodes: 21 | Win count: 21 | Win rate: 0.656 | time: 14.00 minutes\n",
      "Epoch: 107/14999 | Loss: 0.0063 | Episodes: 2 | Win count: 22 | Win rate: 0.688 | time: 14.00 minutes\n",
      "Epoch: 108/14999 | Loss: 0.0498 | Episodes: 7 | Win count: 23 | Win rate: 0.719 | time: 14.01 minutes\n",
      "Epoch: 109/14999 | Loss: 0.0051 | Episodes: 10 | Win count: 24 | Win rate: 0.750 | time: 14.02 minutes\n",
      "Epoch: 110/14999 | Loss: 0.0064 | Episodes: 144 | Win count: 23 | Win rate: 0.719 | time: 14.24 minutes\n",
      "Epoch: 111/14999 | Loss: 0.0074 | Episodes: 18 | Win count: 24 | Win rate: 0.750 | time: 14.28 minutes\n",
      "Epoch: 112/14999 | Loss: 0.0020 | Episodes: 142 | Win count: 23 | Win rate: 0.719 | time: 14.50 minutes\n",
      "Epoch: 113/14999 | Loss: 0.0069 | Episodes: 143 | Win count: 22 | Win rate: 0.688 | time: 14.75 minutes\n",
      "Epoch: 114/14999 | Loss: 0.0019 | Episodes: 64 | Win count: 22 | Win rate: 0.688 | time: 14.86 minutes\n",
      "Epoch: 115/14999 | Loss: 0.0633 | Episodes: 142 | Win count: 21 | Win rate: 0.656 | time: 15.09 minutes\n",
      "Epoch: 116/14999 | Loss: 0.0024 | Episodes: 47 | Win count: 21 | Win rate: 0.656 | time: 15.16 minutes\n",
      "Epoch: 117/14999 | Loss: 0.0042 | Episodes: 9 | Win count: 22 | Win rate: 0.688 | time: 15.17 minutes\n",
      "Epoch: 118/14999 | Loss: 0.0075 | Episodes: 93 | Win count: 22 | Win rate: 0.688 | time: 15.35 minutes\n",
      "Epoch: 119/14999 | Loss: 0.0024 | Episodes: 2 | Win count: 22 | Win rate: 0.688 | time: 15.35 minutes\n",
      "Epoch: 120/14999 | Loss: 0.0703 | Episodes: 12 | Win count: 22 | Win rate: 0.688 | time: 15.37 minutes\n",
      "Epoch: 121/14999 | Loss: 0.0513 | Episodes: 5 | Win count: 22 | Win rate: 0.688 | time: 15.38 minutes\n",
      "Epoch: 122/14999 | Loss: 0.0134 | Episodes: 47 | Win count: 23 | Win rate: 0.719 | time: 15.47 minutes\n",
      "Epoch: 123/14999 | Loss: 0.0481 | Episodes: 140 | Win count: 22 | Win rate: 0.688 | time: 15.68 minutes\n",
      "Epoch: 124/14999 | Loss: 0.0039 | Episodes: 47 | Win count: 23 | Win rate: 0.719 | time: 15.75 minutes\n",
      "Epoch: 125/14999 | Loss: 0.0073 | Episodes: 13 | Win count: 24 | Win rate: 0.750 | time: 15.76 minutes\n",
      "Epoch: 126/14999 | Loss: 0.0043 | Episodes: 141 | Win count: 24 | Win rate: 0.750 | time: 15.98 minutes\n",
      "Epoch: 127/14999 | Loss: 0.0127 | Episodes: 32 | Win count: 24 | Win rate: 0.750 | time: 16.03 minutes\n",
      "Epoch: 128/14999 | Loss: 0.0051 | Episodes: 17 | Win count: 24 | Win rate: 0.750 | time: 16.05 minutes\n",
      "Epoch: 129/14999 | Loss: 0.0029 | Episodes: 158 | Win count: 25 | Win rate: 0.781 | time: 16.28 minutes\n",
      "Epoch: 130/14999 | Loss: 0.0022 | Episodes: 146 | Win count: 25 | Win rate: 0.781 | time: 16.53 minutes\n",
      "Epoch: 131/14999 | Loss: 0.0037 | Episodes: 9 | Win count: 25 | Win rate: 0.781 | time: 16.54 minutes\n",
      "Epoch: 132/14999 | Loss: 0.0025 | Episodes: 18 | Win count: 25 | Win rate: 0.781 | time: 16.58 minutes\n",
      "Epoch: 133/14999 | Loss: 0.0093 | Episodes: 87 | Win count: 25 | Win rate: 0.781 | time: 16.70 minutes\n",
      "Epoch: 134/14999 | Loss: 0.0051 | Episodes: 150 | Win count: 25 | Win rate: 0.781 | time: 16.91 minutes\n",
      "Epoch: 135/14999 | Loss: 0.0037 | Episodes: 2 | Win count: 26 | Win rate: 0.812 | time: 16.91 minutes\n",
      "Epoch: 136/14999 | Loss: 0.0045 | Episodes: 18 | Win count: 26 | Win rate: 0.812 | time: 16.94 minutes\n",
      "Epoch: 137/14999 | Loss: 0.0145 | Episodes: 21 | Win count: 26 | Win rate: 0.812 | time: 16.97 minutes\n",
      "Epoch: 138/14999 | Loss: 0.0030 | Episodes: 58 | Win count: 26 | Win rate: 0.812 | time: 17.06 minutes\n",
      "Epoch: 139/14999 | Loss: 0.0031 | Episodes: 23 | Win count: 26 | Win rate: 0.812 | time: 17.09 minutes\n",
      "Epoch: 140/14999 | Loss: 0.0087 | Episodes: 24 | Win count: 26 | Win rate: 0.812 | time: 17.12 minutes\n",
      "Epoch: 141/14999 | Loss: 0.0070 | Episodes: 20 | Win count: 26 | Win rate: 0.812 | time: 17.15 minutes\n",
      "Epoch: 142/14999 | Loss: 0.0124 | Episodes: 82 | Win count: 27 | Win rate: 0.844 | time: 17.27 minutes\n",
      "Epoch: 143/14999 | Loss: 0.0137 | Episodes: 15 | Win count: 27 | Win rate: 0.844 | time: 17.30 minutes\n",
      "Epoch: 144/14999 | Loss: 0.0051 | Episodes: 136 | Win count: 27 | Win rate: 0.844 | time: 17.54 minutes\n",
      "Epoch: 145/14999 | Loss: 0.0302 | Episodes: 15 | Win count: 28 | Win rate: 0.875 | time: 17.58 minutes\n",
      "Epoch: 146/14999 | Loss: 0.0039 | Episodes: 140 | Win count: 28 | Win rate: 0.875 | time: 17.82 minutes\n",
      "Epoch: 147/14999 | Loss: 0.0041 | Episodes: 55 | Win count: 29 | Win rate: 0.906 | time: 17.92 minutes\n",
      "Epoch: 148/14999 | Loss: 0.0040 | Episodes: 9 | Win count: 29 | Win rate: 0.906 | time: 17.94 minutes\n",
      "Epoch: 149/14999 | Loss: 0.0042 | Episodes: 6 | Win count: 29 | Win rate: 0.906 | time: 17.95 minutes\n",
      "Epoch: 150/14999 | Loss: 0.0043 | Episodes: 9 | Win count: 29 | Win rate: 0.906 | time: 17.96 minutes\n",
      "Epoch: 151/14999 | Loss: 0.0127 | Episodes: 58 | Win count: 29 | Win rate: 0.906 | time: 18.11 minutes\n",
      "Epoch: 152/14999 | Loss: 0.0024 | Episodes: 140 | Win count: 29 | Win rate: 0.906 | time: 18.38 minutes\n",
      "Epoch: 153/14999 | Loss: 0.0085 | Episodes: 57 | Win count: 29 | Win rate: 0.906 | time: 18.46 minutes\n",
      "Epoch: 154/14999 | Loss: 0.0027 | Episodes: 29 | Win count: 29 | Win rate: 0.906 | time: 18.51 minutes\n",
      "Epoch: 155/14999 | Loss: 0.0216 | Episodes: 21 | Win count: 30 | Win rate: 0.938 | time: 18.55 minutes\n",
      "Epoch: 156/14999 | Loss: 0.0072 | Episodes: 42 | Win count: 30 | Win rate: 0.938 | time: 18.63 minutes\n",
      "Epoch: 157/14999 | Loss: 0.0045 | Episodes: 16 | Win count: 30 | Win rate: 0.938 | time: 18.66 minutes\n",
      "Epoch: 158/14999 | Loss: 0.0174 | Episodes: 44 | Win count: 31 | Win rate: 0.969 | time: 18.76 minutes\n",
      "Epoch: 159/14999 | Loss: 0.0029 | Episodes: 12 | Win count: 31 | Win rate: 0.969 | time: 18.78 minutes\n"
     ]
    },
    {
     "name": "stdout",
     "output_type": "stream",
     "text": [
      "Epoch: 160/14999 | Loss: 0.0047 | Episodes: 17 | Win count: 31 | Win rate: 0.969 | time: 18.82 minutes\n",
      "Epoch: 161/14999 | Loss: 0.0051 | Episodes: 3 | Win count: 31 | Win rate: 0.969 | time: 18.83 minutes\n",
      "Epoch: 162/14999 | Loss: 0.0191 | Episodes: 24 | Win count: 31 | Win rate: 0.969 | time: 18.88 minutes\n",
      "Epoch: 163/14999 | Loss: 0.0045 | Episodes: 19 | Win count: 31 | Win rate: 0.969 | time: 18.91 minutes\n",
      "Epoch: 164/14999 | Loss: 0.0074 | Episodes: 18 | Win count: 31 | Win rate: 0.969 | time: 18.94 minutes\n",
      "Epoch: 165/14999 | Loss: 0.0068 | Episodes: 9 | Win count: 31 | Win rate: 0.969 | time: 18.95 minutes\n",
      "Epoch: 166/14999 | Loss: 0.0172 | Episodes: 16 | Win count: 31 | Win rate: 0.969 | time: 18.98 minutes\n",
      "Epoch: 167/14999 | Loss: 0.0068 | Episodes: 5 | Win count: 31 | Win rate: 0.969 | time: 18.98 minutes\n",
      "Epoch: 168/14999 | Loss: 0.0126 | Episodes: 47 | Win count: 31 | Win rate: 0.969 | time: 19.05 minutes\n",
      "Epoch: 169/14999 | Loss: 0.0142 | Episodes: 53 | Win count: 31 | Win rate: 0.969 | time: 19.14 minutes\n",
      "Epoch: 170/14999 | Loss: 0.0029 | Episodes: 15 | Win count: 31 | Win rate: 0.969 | time: 19.18 minutes\n",
      "Epoch: 171/14999 | Loss: 0.0064 | Episodes: 25 | Win count: 31 | Win rate: 0.969 | time: 19.22 minutes\n",
      "Epoch: 172/14999 | Loss: 0.0128 | Episodes: 16 | Win count: 31 | Win rate: 0.969 | time: 19.25 minutes\n",
      "Epoch: 173/14999 | Loss: 0.0084 | Episodes: 11 | Win count: 31 | Win rate: 0.969 | time: 19.27 minutes\n",
      "Epoch: 174/14999 | Loss: 0.0063 | Episodes: 19 | Win count: 31 | Win rate: 0.969 | time: 19.30 minutes\n",
      "Epoch: 175/14999 | Loss: 0.0027 | Episodes: 27 | Win count: 31 | Win rate: 0.969 | time: 19.35 minutes\n",
      "Epoch: 176/14999 | Loss: 0.0048 | Episodes: 24 | Win count: 32 | Win rate: 1.000 | time: 19.40 minutes\n",
      "Epoch: 177/14999 | Loss: 0.0046 | Episodes: 13 | Win count: 32 | Win rate: 1.000 | time: 19.45 minutes\n",
      "Epoch: 178/14999 | Loss: 0.0063 | Episodes: 50 | Win count: 32 | Win rate: 1.000 | time: 19.53 minutes\n",
      "Epoch: 179/14999 | Loss: 0.0051 | Episodes: 19 | Win count: 32 | Win rate: 1.000 | time: 19.56 minutes\n",
      "Epoch: 180/14999 | Loss: 0.0016 | Episodes: 7 | Win count: 32 | Win rate: 1.000 | time: 19.58 minutes\n",
      "Epoch: 181/14999 | Loss: 0.0044 | Episodes: 37 | Win count: 32 | Win rate: 1.000 | time: 19.63 minutes\n",
      "Epoch: 182/14999 | Loss: 0.0017 | Episodes: 7 | Win count: 32 | Win rate: 1.000 | time: 19.64 minutes\n",
      "Epoch: 183/14999 | Loss: 0.0020 | Episodes: 28 | Win count: 32 | Win rate: 1.000 | time: 19.69 minutes\n",
      "Epoch: 184/14999 | Loss: 0.0027 | Episodes: 28 | Win count: 32 | Win rate: 1.000 | time: 19.74 minutes\n",
      "Epoch: 185/14999 | Loss: 0.0017 | Episodes: 1 | Win count: 32 | Win rate: 1.000 | time: 19.75 minutes\n",
      "Epoch: 186/14999 | Loss: 0.0052 | Episodes: 38 | Win count: 32 | Win rate: 1.000 | time: 19.84 minutes\n",
      "Epoch: 187/14999 | Loss: 0.0031 | Episodes: 21 | Win count: 32 | Win rate: 1.000 | time: 19.88 minutes\n",
      "Epoch: 188/14999 | Loss: 0.0077 | Episodes: 2 | Win count: 32 | Win rate: 1.000 | time: 19.88 minutes\n",
      "Epoch: 189/14999 | Loss: 0.0057 | Episodes: 16 | Win count: 32 | Win rate: 1.000 | time: 19.92 minutes\n",
      "Epoch: 190/14999 | Loss: 0.0028 | Episodes: 25 | Win count: 32 | Win rate: 1.000 | time: 19.97 minutes\n",
      "Epoch: 191/14999 | Loss: 0.0031 | Episodes: 4 | Win count: 32 | Win rate: 1.000 | time: 19.98 minutes\n",
      "Epoch: 192/14999 | Loss: 0.0021 | Episodes: 8 | Win count: 32 | Win rate: 1.000 | time: 20.00 minutes\n",
      "Epoch: 193/14999 | Loss: 0.0023 | Episodes: 26 | Win count: 32 | Win rate: 1.000 | time: 20.03 minutes\n",
      "Epoch: 194/14999 | Loss: 0.0012 | Episodes: 33 | Win count: 32 | Win rate: 1.000 | time: 20.09 minutes\n",
      "Epoch: 195/14999 | Loss: 0.0016 | Episodes: 6 | Win count: 32 | Win rate: 1.000 | time: 20.10 minutes\n",
      "Epoch: 196/14999 | Loss: 0.0019 | Episodes: 3 | Win count: 32 | Win rate: 1.000 | time: 20.11 minutes\n",
      "Epoch: 197/14999 | Loss: 0.0048 | Episodes: 25 | Win count: 32 | Win rate: 1.000 | time: 20.15 minutes\n",
      "Epoch: 198/14999 | Loss: 0.0013 | Episodes: 18 | Win count: 32 | Win rate: 1.000 | time: 20.18 minutes\n",
      "Epoch: 199/14999 | Loss: 0.0009 | Episodes: 14 | Win count: 32 | Win rate: 1.000 | time: 20.23 minutes\n",
      "Epoch: 200/14999 | Loss: 0.0032 | Episodes: 36 | Win count: 32 | Win rate: 1.000 | time: 20.29 minutes\n",
      "Epoch: 201/14999 | Loss: 0.0029 | Episodes: 41 | Win count: 32 | Win rate: 1.000 | time: 20.37 minutes\n",
      "Epoch: 202/14999 | Loss: 0.0019 | Episodes: 15 | Win count: 32 | Win rate: 1.000 | time: 20.40 minutes\n",
      "Epoch: 203/14999 | Loss: 0.0020 | Episodes: 29 | Win count: 32 | Win rate: 1.000 | time: 20.47 minutes\n",
      "Epoch: 204/14999 | Loss: 0.0015 | Episodes: 4 | Win count: 32 | Win rate: 1.000 | time: 20.48 minutes\n",
      "Epoch: 205/14999 | Loss: 0.0041 | Episodes: 22 | Win count: 32 | Win rate: 1.000 | time: 20.53 minutes\n",
      "Epoch: 206/14999 | Loss: 0.0021 | Episodes: 14 | Win count: 32 | Win rate: 1.000 | time: 20.56 minutes\n",
      "Epoch: 207/14999 | Loss: 0.0016 | Episodes: 26 | Win count: 32 | Win rate: 1.000 | time: 20.60 minutes\n",
      "Epoch: 208/14999 | Loss: 0.0019 | Episodes: 61 | Win count: 32 | Win rate: 1.000 | time: 20.72 minutes\n",
      "Epoch: 209/14999 | Loss: 0.0033 | Episodes: 25 | Win count: 32 | Win rate: 1.000 | time: 20.77 minutes\n",
      "Epoch: 210/14999 | Loss: 0.0022 | Episodes: 2 | Win count: 32 | Win rate: 1.000 | time: 20.77 minutes\n",
      "Epoch: 211/14999 | Loss: 0.0026 | Episodes: 5 | Win count: 32 | Win rate: 1.000 | time: 20.79 minutes\n",
      "Epoch: 212/14999 | Loss: 0.0093 | Episodes: 22 | Win count: 32 | Win rate: 1.000 | time: 20.83 minutes\n",
      "Epoch: 213/14999 | Loss: 0.0029 | Episodes: 11 | Win count: 32 | Win rate: 1.000 | time: 20.85 minutes\n",
      "Epoch: 214/14999 | Loss: 0.0032 | Episodes: 11 | Win count: 32 | Win rate: 1.000 | time: 20.87 minutes\n",
      "Epoch: 215/14999 | Loss: 0.0046 | Episodes: 29 | Win count: 32 | Win rate: 1.000 | time: 20.93 minutes\n",
      "Epoch: 216/14999 | Loss: 0.0021 | Episodes: 22 | Win count: 32 | Win rate: 1.000 | time: 20.96 minutes\n",
      "Epoch: 217/14999 | Loss: 0.0026 | Episodes: 24 | Win count: 32 | Win rate: 1.000 | time: 21.01 minutes\n",
      "Epoch: 218/14999 | Loss: 0.0019 | Episodes: 4 | Win count: 32 | Win rate: 1.000 | time: 21.02 minutes\n",
      "Epoch: 219/14999 | Loss: 0.0019 | Episodes: 11 | Win count: 32 | Win rate: 1.000 | time: 21.04 minutes\n",
      "Epoch: 220/14999 | Loss: 0.0023 | Episodes: 24 | Win count: 32 | Win rate: 1.000 | time: 21.08 minutes\n",
      "Epoch: 221/14999 | Loss: 0.0019 | Episodes: 25 | Win count: 32 | Win rate: 1.000 | time: 21.12 minutes\n",
      "Epoch: 222/14999 | Loss: 0.0034 | Episodes: 23 | Win count: 32 | Win rate: 1.000 | time: 21.16 minutes\n",
      "Epoch: 223/14999 | Loss: 0.0029 | Episodes: 3 | Win count: 32 | Win rate: 1.000 | time: 21.17 minutes\n",
      "Epoch: 224/14999 | Loss: 0.0013 | Episodes: 7 | Win count: 32 | Win rate: 1.000 | time: 21.19 minutes\n",
      "Epoch: 225/14999 | Loss: 0.0010 | Episodes: 13 | Win count: 32 | Win rate: 1.000 | time: 21.21 minutes\n",
      "Epoch: 226/14999 | Loss: 0.0007 | Episodes: 13 | Win count: 32 | Win rate: 1.000 | time: 21.23 minutes\n",
      "Epoch: 227/14999 | Loss: 0.0023 | Episodes: 27 | Win count: 32 | Win rate: 1.000 | time: 21.27 minutes\n",
      "Epoch: 228/14999 | Loss: 0.0008 | Episodes: 21 | Win count: 32 | Win rate: 1.000 | time: 21.31 minutes\n",
      "Epoch: 229/14999 | Loss: 0.0006 | Episodes: 7 | Win count: 32 | Win rate: 1.000 | time: 21.32 minutes\n",
      "Epoch: 230/14999 | Loss: 0.0006 | Episodes: 9 | Win count: 32 | Win rate: 1.000 | time: 21.33 minutes\n",
      "Epoch: 231/14999 | Loss: 0.0005 | Episodes: 14 | Win count: 32 | Win rate: 1.000 | time: 21.35 minutes\n",
      "Epoch: 232/14999 | Loss: 0.0011 | Episodes: 21 | Win count: 32 | Win rate: 1.000 | time: 21.38 minutes\n",
      "Epoch: 233/14999 | Loss: 0.0008 | Episodes: 25 | Win count: 32 | Win rate: 1.000 | time: 21.44 minutes\n",
      "Epoch: 234/14999 | Loss: 0.0007 | Episodes: 3 | Win count: 32 | Win rate: 1.000 | time: 21.45 minutes\n",
      "Epoch: 235/14999 | Loss: 0.0014 | Episodes: 24 | Win count: 32 | Win rate: 1.000 | time: 21.50 minutes\n",
      "Epoch: 236/14999 | Loss: 0.0007 | Episodes: 23 | Win count: 32 | Win rate: 1.000 | time: 21.54 minutes\n",
      "Epoch: 237/14999 | Loss: 0.0009 | Episodes: 24 | Win count: 32 | Win rate: 1.000 | time: 21.60 minutes\n",
      "Epoch: 238/14999 | Loss: 0.0006 | Episodes: 24 | Win count: 32 | Win rate: 1.000 | time: 21.64 minutes\n",
      "Epoch: 239/14999 | Loss: 0.0005 | Episodes: 1 | Win count: 32 | Win rate: 1.000 | time: 21.65 minutes\n"
     ]
    },
    {
     "name": "stdout",
     "output_type": "stream",
     "text": [
      "Epoch: 240/14999 | Loss: 0.0005 | Episodes: 15 | Win count: 32 | Win rate: 1.000 | time: 21.67 minutes\n",
      "Epoch: 241/14999 | Loss: 0.0013 | Episodes: 4 | Win count: 32 | Win rate: 1.000 | time: 21.68 minutes\n",
      "Epoch: 242/14999 | Loss: 0.0005 | Episodes: 1 | Win count: 32 | Win rate: 1.000 | time: 21.69 minutes\n",
      "Epoch: 243/14999 | Loss: 0.0005 | Episodes: 1 | Win count: 32 | Win rate: 1.000 | time: 21.69 minutes\n",
      "Epoch: 244/14999 | Loss: 0.0001 | Episodes: 5 | Win count: 32 | Win rate: 1.000 | time: 21.70 minutes\n",
      "Epoch: 245/14999 | Loss: 0.0004 | Episodes: 12 | Win count: 32 | Win rate: 1.000 | time: 21.72 minutes\n",
      "Epoch: 246/14999 | Loss: 0.0004 | Episodes: 36 | Win count: 32 | Win rate: 1.000 | time: 21.77 minutes\n",
      "Epoch: 247/14999 | Loss: 0.0006 | Episodes: 18 | Win count: 32 | Win rate: 1.000 | time: 21.80 minutes\n",
      "Epoch: 248/14999 | Loss: 0.0022 | Episodes: 26 | Win count: 32 | Win rate: 1.000 | time: 21.84 minutes\n",
      "Epoch: 249/14999 | Loss: 0.0009 | Episodes: 28 | Win count: 32 | Win rate: 1.000 | time: 21.88 minutes\n",
      "Epoch: 250/14999 | Loss: 0.0015 | Episodes: 27 | Win count: 32 | Win rate: 1.000 | time: 21.92 minutes\n",
      "Epoch: 251/14999 | Loss: 0.0005 | Episodes: 3 | Win count: 32 | Win rate: 1.000 | time: 21.93 minutes\n",
      "Epoch: 252/14999 | Loss: 0.0004 | Episodes: 4 | Win count: 32 | Win rate: 1.000 | time: 21.93 minutes\n",
      "Epoch: 253/14999 | Loss: 0.0007 | Episodes: 12 | Win count: 32 | Win rate: 1.000 | time: 21.95 minutes\n",
      "Epoch: 254/14999 | Loss: 0.0021 | Episodes: 24 | Win count: 32 | Win rate: 1.000 | time: 22.00 minutes\n",
      "Epoch: 255/14999 | Loss: 0.0008 | Episodes: 22 | Win count: 32 | Win rate: 1.000 | time: 22.04 minutes\n",
      "Epoch: 256/14999 | Loss: 0.0001 | Episodes: 21 | Win count: 32 | Win rate: 1.000 | time: 22.08 minutes\n",
      "Epoch: 257/14999 | Loss: 0.0007 | Episodes: 4 | Win count: 32 | Win rate: 1.000 | time: 22.09 minutes\n",
      "Epoch: 258/14999 | Loss: 0.0002 | Episodes: 38 | Win count: 32 | Win rate: 1.000 | time: 22.16 minutes\n",
      "Epoch: 259/14999 | Loss: 0.0002 | Episodes: 31 | Win count: 32 | Win rate: 1.000 | time: 22.20 minutes\n",
      "Epoch: 260/14999 | Loss: 0.0006 | Episodes: 24 | Win count: 32 | Win rate: 1.000 | time: 22.23 minutes\n",
      "Reached 100% win rate at epoch: 260\n",
      "n_epoch: 260, max_mem: 512, data: 32, time: 22.25 minutes\n"
     ]
    },
    {
     "data": {
      "text/plain": [
       "1335.03435"
      ]
     },
     "execution_count": 23,
     "metadata": {},
     "output_type": "execute_result"
    }
   ],
   "source": [
    "model = build_model(maze)\n",
    "qtrain(model, maze, epochs=1000, max_memory=8*maze.size, data_size=32)"
   ]
  },
  {
   "cell_type": "markdown",
   "metadata": {},
   "source": [
    "This cell will check to see if the model passes the completion check. Note: This could take several minutes."
   ]
  },
  {
   "cell_type": "code",
   "execution_count": 28,
   "metadata": {},
   "outputs": [
    {
     "data": {
      "text/plain": [
       "<matplotlib.image.AxesImage at 0x14a905bc388>"
      ]
     },
     "execution_count": 28,
     "metadata": {},
     "output_type": "execute_result"
    },
    {
     "data": {
      "image/png": "[encoded data removed]",
      "text/plain": [
       "<Figure size 432x288 with 1 Axes>"
      ]
     },
     "metadata": {
      "needs_background": "light"
     },
     "output_type": "display_data"
    }
   ],
   "source": [
    "completion_check(model, qmaze)\n",
    "show(qmaze)"
   ]
  },
  {
   "cell_type": "markdown",
   "metadata": {},
   "source": [
    "This cell will test your model for one game. It will start the pirate at the top-left corner and run play_game. The agent should find a path from the starting position to the target (treasure). The treasure is located in the bottom-right corner."
   ]
  },
  {
   "cell_type": "code",
   "execution_count": 27,
   "metadata": {},
   "outputs": [
    {
     "data": {
      "text/plain": [
       "<matplotlib.image.AxesImage at 0x14a8fcc6148>"
      ]
     },
     "execution_count": 27,
     "metadata": {},
     "output_type": "execute_result"
    },
    {
     "data": {
      "image/png": "[encoded data removed]",
      "text/plain": [
       "<Figure size 432x288 with 1 Axes>"
      ]
     },
     "metadata": {
      "needs_background": "light"
     },
     "output_type": "display_data"
    }
   ],
   "source": [
    "pirate_start = (0, 0)\n",
    "play_game(model, qmaze, pirate_start)\n",
    "show(qmaze)"
   ]
  },
  {
   "cell_type": "markdown",
   "metadata": {},
   "source": [
    "## Save and Submit Your Work\n",
    "After you have finished creating the code for your notebook, save your work. Make sure that your notebook contains your name in the filename (e.g. Doe_Jane_ProjectTwo.ipynb). This will help your instructor access and grade your work easily. Download a copy of your IPYNB file and submit it to Brightspace. Refer to the Jupyter Notebook in Apporto Tutorial if you need help with these tasks."
   ]
  }
 ],
 "metadata": {
  "kernelspec": {
   "display_name": "Python 3",
   "language": "python",
   "name": "python3"
  },
  "language_info": {
   "codemirror_mode": {
    "name": "ipython",
    "version": 3
   },
   "file_extension": ".py",
   "mimetype": "text/x-python",
   "name": "python",
   "nbconvert_exporter": "python",
   "pygments_lexer": "ipython3",
   "version": "3.7.4"
  }
 },
 "nbformat": 4,
 "nbformat_minor": 2
}
